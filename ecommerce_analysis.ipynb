import pandas as pd
import numpy as np
from faker import Faker
import random

# Initialize Faker and seeds
fake = Faker()
Faker.seed(42)
np.random.seed(42)
random.seed(42)

# Constants
n_customers = 30000
industries = ['Fintech', 'Healthcare', 'Education', 'Retail', 'Manufacturing', 'Media', 'Consulting', 'Energy']
regions = ['North America', 'EMEA', 'APAC', 'LATAM']
plan_types = ['Basic', 'Pro', 'Enterprise']
sales_reps = ['Team Alpha', 'Team Bravo', 'Team Charlie', 'Team Delta']

# Simulate customer records
data = []
for i in range(n_customers):
    customer_id = f"CUST-{100000+i}"
    industry = random.choice(industries)
    region = random.choice(regions)
    signup_date = fake.date_between(start_date='-4y', end_date='-1y')
    plan = random.choices(plan_types, weights=[0.5, 0.35, 0.15])[0]
    
    # Set monthly revenue based on plan
    if plan == 'Basic':
        revenue = np.round(np.random.uniform(50, 150), 2)
    elif plan == 'Pro':
        revenue = np.round(np.random.uniform(200, 500), 2)
    else:
        reven

